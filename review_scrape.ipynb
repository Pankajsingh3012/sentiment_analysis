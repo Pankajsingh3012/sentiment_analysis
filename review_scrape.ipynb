{
 "cells": [
  {
   "cell_type": "code",
   "execution_count": 2,
   "id": "f2bbede8-ced9-4aed-8be0-edabcb0d0cd7",
   "metadata": {},
   "outputs": [],
   "source": [
    "import requests\n",
    "from bs4 import BeautifulSoup"
   ]
  },
  {
   "cell_type": "code",
   "execution_count": 3,
   "id": "544d5515-09df-473b-8745-b3816f146755",
   "metadata": {},
   "outputs": [
    {
     "data": {
      "text/plain": [
       "<Response [403]>"
      ]
     },
     "execution_count": 3,
     "metadata": {},
     "output_type": "execute_result"
    }
   ],
   "source": [
    "requests.get(\"https://www.zomato.com/restaurants-near-me\")"
   ]
  },
  {
   "cell_type": "code",
   "execution_count": 4,
   "id": "797cd1ad-df1f-4a68-b58d-0f6bc9b57687",
   "metadata": {},
   "outputs": [],
   "source": [
    "from selenium import webdriver"
   ]
  },
  {
   "cell_type": "code",
   "execution_count": 6,
   "id": "fbe0cae6-02ee-4a63-9012-66f95c65ff5d",
   "metadata": {},
   "outputs": [],
   "source": [
    "driver = webdriver.Edge()\n"
   ]
  },
  {
   "cell_type": "code",
   "execution_count": 7,
   "id": "c01429c2-1856-46ee-8557-a926cb343638",
   "metadata": {},
   "outputs": [],
   "source": [
    "driver.get(\"https://www.zomato.com/restaurants-near-me\")"
   ]
  },
  {
   "cell_type": "code",
   "execution_count": 8,
   "id": "cc6c0147-adb2-4d01-ab18-0c0d03d8e0ad",
   "metadata": {},
   "outputs": [],
   "source": [
    "for x in range(0,20000,100):\n",
    "    driver.execute_script(\"window.scrollTo(0,\"+ str(x) +\")\")"
   ]
  },
  {
   "cell_type": "code",
   "execution_count": 123,
   "id": "d5dde03e-6a0e-4265-95c4-dcc35226d569",
   "metadata": {},
   "outputs": [],
   "source": [
    "soup = BeautifulSoup(driver.page_source,\"html.parser\")"
   ]
  },
  {
   "cell_type": "code",
   "execution_count": 124,
   "id": "a32a739e-d6e6-4f48-92cb-745c2d9a7323",
   "metadata": {},
   "outputs": [],
   "source": [
    "each = soup.find(\"div\",class_=\"sc-fEUNkw gAkuDn\")"
   ]
  },
  {
   "cell_type": "code",
   "execution_count": 125,
   "id": "5ff054be-d935-4d6d-a82a-7865be5cb9ec",
   "metadata": {},
   "outputs": [],
   "source": [
    "l = []\n",
    "for x in each.find_all(\"div\",class_=\"sc-1mo3ldo-0 sc-eomEcv hBuwPa\"):\n",
    "    l.append(x)\n",
    "    "
   ]
  },
  {
   "cell_type": "code",
   "execution_count": 132,
   "id": "616f0b16-ae0c-4cce-94b2-c650b855096f",
   "metadata": {},
   "outputs": [
    {
     "data": {
      "text/plain": [
       "501"
      ]
     },
     "execution_count": 132,
     "metadata": {},
     "output_type": "execute_result"
    }
   ],
   "source": [
    "links = set()\n",
    "for x in l:\n",
    "    for i in x.find_all(\"a\"):\n",
    "        links.add(\"https://www.zomato.com\"+i[\"href\"][:-4]+\"reviews\")\n",
    "links =list(links)\n",
    "len(links)"
   ]
  },
  {
   "cell_type": "code",
   "execution_count": 133,
   "id": "19cebeb9-339d-495b-b062-f36ebc1e4812",
   "metadata": {},
   "outputs": [],
   "source": [
    "rating = []\n",
    "reviews = []\n",
    "for link in links[400:]:\n",
    "    try:\n",
    "        driver.get(link)\n",
    "        soup = BeautifulSoup(driver.page_source,\"html.parser\")\n",
    "        time = int(\"\".join([x for x in soup.find(\"div\",class_=\"sc-1q7bklc-8 kEgyiI\").text if x.isdigit()]))//5\n",
    "        for x in range(1,time):\n",
    "        \n",
    "            driver.get(f'{link}?page={x}&amp;sort=dd&amp;filter=reviews-dd')\n",
    "            soup = BeautifulSoup(driver.page_source,\"html.parser\")\n",
    "            page = soup.find(\"div\",class_=\"sc-jvjHmY iFMTHd\")\n",
    "            for i in page.find_all(\"div\",class_=\"sc-kqEXUp bimpFZ\"):\n",
    "                rating.append(i.text)\n",
    "            for j in page.find_all(\"p\",class_=\"sc-1hez2tp-0 sc-ctwKVn cjjjKd\"):\n",
    "                reviews.append(j.text)\n",
    "    except:\n",
    "            continue"
   ]
  },
  {
   "cell_type": "code",
   "execution_count": 134,
   "id": "a80465af-5b33-4a51-abb9-d3a7cab5ebaa",
   "metadata": {},
   "outputs": [
    {
     "data": {
      "text/plain": [
       "2334"
      ]
     },
     "execution_count": 134,
     "metadata": {},
     "output_type": "execute_result"
    }
   ],
   "source": [
    "len(rating)"
   ]
  },
  {
   "cell_type": "code",
   "execution_count": 116,
   "id": "539651e6-a346-4b11-94a3-6cf2350629c5",
   "metadata": {},
   "outputs": [
    {
     "data": {
      "text/plain": [
       "241"
      ]
     },
     "execution_count": 116,
     "metadata": {},
     "output_type": "execute_result"
    }
   ],
   "source": [
    "len([x for x in reviews if x != \"\"])"
   ]
  },
  {
   "cell_type": "code",
   "execution_count": 135,
   "id": "97bb2df1-2c2f-43a2-83f4-e3f94b2b5f87",
   "metadata": {},
   "outputs": [],
   "source": [
    "import pandas as pd"
   ]
  },
  {
   "cell_type": "code",
   "execution_count": 136,
   "id": "47386f92-3256-4b57-9201-b0e2de7793b2",
   "metadata": {},
   "outputs": [],
   "source": [
    "df = pd.DataFrame(data={\"ratings\":[x[0] for x in rating],\n",
    "                  \"reviews\":reviews})"
   ]
  },
  {
   "cell_type": "code",
   "execution_count": 90,
   "id": "5df99be7-3b9b-4a43-8203-407d795c78be",
   "metadata": {},
   "outputs": [
    {
     "data": {
      "text/html": [
       "<div>\n",
       "<style scoped>\n",
       "    .dataframe tbody tr th:only-of-type {\n",
       "        vertical-align: middle;\n",
       "    }\n",
       "\n",
       "    .dataframe tbody tr th {\n",
       "        vertical-align: top;\n",
       "    }\n",
       "\n",
       "    .dataframe thead th {\n",
       "        text-align: right;\n",
       "    }\n",
       "</style>\n",
       "<table border=\"1\" class=\"dataframe\">\n",
       "  <thead>\n",
       "    <tr style=\"text-align: right;\">\n",
       "      <th></th>\n",
       "      <th>ratings</th>\n",
       "      <th>reviews</th>\n",
       "    </tr>\n",
       "  </thead>\n",
       "  <tbody>\n",
       "    <tr>\n",
       "      <th>0</th>\n",
       "      <td>5</td>\n",
       "      <td>nice space to sit and enjoy a good meal..</td>\n",
       "    </tr>\n",
       "    <tr>\n",
       "      <th>1</th>\n",
       "      <td>5</td>\n",
       "      <td>very nice food 🤤</td>\n",
       "    </tr>\n",
       "    <tr>\n",
       "      <th>2</th>\n",
       "      <td>5</td>\n",
       "      <td>very nice food nice service</td>\n",
       "    </tr>\n",
       "    <tr>\n",
       "      <th>3</th>\n",
       "      <td>3</td>\n",
       "      <td>the tea was very bad it was very bitterthe siz...</td>\n",
       "    </tr>\n",
       "    <tr>\n",
       "      <th>4</th>\n",
       "      <td>1</td>\n",
       "      <td>Took booking but after reaching the restaurant...</td>\n",
       "    </tr>\n",
       "    <tr>\n",
       "      <th>...</th>\n",
       "      <td>...</td>\n",
       "      <td>...</td>\n",
       "    </tr>\n",
       "    <tr>\n",
       "      <th>8387</th>\n",
       "      <td>4</td>\n",
       "      <td>Thanks to rajveer for serving us!</td>\n",
       "    </tr>\n",
       "    <tr>\n",
       "      <th>8388</th>\n",
       "      <td>5</td>\n",
       "      <td>Ambience is a bliss, so relaxing and the food ...</td>\n",
       "    </tr>\n",
       "    <tr>\n",
       "      <th>8389</th>\n",
       "      <td>5</td>\n",
       "      <td>Fabulous place with amazing food! Great starte...</td>\n",
       "    </tr>\n",
       "    <tr>\n",
       "      <th>8390</th>\n",
       "      <td>4</td>\n",
       "      <td>Interesting food presentation and great ambien...</td>\n",
       "    </tr>\n",
       "    <tr>\n",
       "      <th>8391</th>\n",
       "      <td>5</td>\n",
       "      <td>Service and food was superb. Your executive mr...</td>\n",
       "    </tr>\n",
       "  </tbody>\n",
       "</table>\n",
       "<p>8392 rows × 2 columns</p>\n",
       "</div>"
      ],
      "text/plain": [
       "     ratings                                            reviews\n",
       "0          5          nice space to sit and enjoy a good meal..\n",
       "1          5                                   very nice food 🤤\n",
       "2          5                       very nice food nice service \n",
       "3          3  the tea was very bad it was very bitterthe siz...\n",
       "4          1  Took booking but after reaching the restaurant...\n",
       "...      ...                                                ...\n",
       "8387       4                  Thanks to rajveer for serving us!\n",
       "8388       5  Ambience is a bliss, so relaxing and the food ...\n",
       "8389       5  Fabulous place with amazing food! Great starte...\n",
       "8390       4  Interesting food presentation and great ambien...\n",
       "8391       5  Service and food was superb. Your executive mr...\n",
       "\n",
       "[8392 rows x 2 columns]"
      ]
     },
     "execution_count": 90,
     "metadata": {},
     "output_type": "execute_result"
    }
   ],
   "source": [
    "df"
   ]
  },
  {
   "cell_type": "code",
   "execution_count": 91,
   "id": "0abdf86c-3fc8-4094-bfe5-8b4ce362022d",
   "metadata": {},
   "outputs": [
    {
     "data": {
      "text/plain": [
       "2405"
      ]
     },
     "execution_count": 91,
     "metadata": {},
     "output_type": "execute_result"
    }
   ],
   "source": [
    "df.duplicated().sum()"
   ]
  },
  {
   "cell_type": "code",
   "execution_count": 92,
   "id": "5fe054e3-c5fe-42c6-9b86-0757ed78bec8",
   "metadata": {},
   "outputs": [],
   "source": [
    "# for x in df.drop_duplicates()[\"reviews\"]:\n",
    "#     print(x)\n",
    "#     print( )"
   ]
  },
  {
   "cell_type": "code",
   "execution_count": 138,
   "id": "b44dcc20-6d62-4f0c-9801-e0bedd060086",
   "metadata": {},
   "outputs": [],
   "source": [
    "df.to_csv(\"ratings2.csv\")"
   ]
  },
  {
   "cell_type": "code",
   "execution_count": 215,
   "id": "dad50c1d-1e41-4fb1-8a00-c27df983c4b1",
   "metadata": {},
   "outputs": [],
   "source": [
    "soup = BeautifulSoup(driver.page_source,\"html.parser\")"
   ]
  },
  {
   "cell_type": "code",
   "execution_count": 216,
   "id": "ac670cb2-89dd-4fa0-a61c-c34bb125179f",
   "metadata": {},
   "outputs": [],
   "source": [
    "page = soup.find(\"div\",class_=\"sc-jvjHmY iFMTHd\")"
   ]
  },
  {
   "cell_type": "code",
   "execution_count": 224,
   "id": "c9bf6ab5-efd6-4a94-a3a2-1392e1fd6cf3",
   "metadata": {},
   "outputs": [],
   "source": [
    "rating = []\n",
    "for x in page.find_all(\"div\",class_=\"sc-kqEXUp bimpFZ\"):\n",
    "    rating.append(x.text)"
   ]
  },
  {
   "cell_type": "code",
   "execution_count": 222,
   "id": "fc9124e1-fe9b-4f08-9293-491c20e4006d",
   "metadata": {},
   "outputs": [],
   "source": [
    "reviews = []\n",
    "for i,x in  enumerate(page.find_all(\"p\",class_=\"sc-1hez2tp-0 sc-ctwKVn cjjjKd\")):\n",
    "    reviews.append(x.text)\n"
   ]
  },
  {
   "cell_type": "code",
   "execution_count": 226,
   "id": "96e53396-09a9-496c-941d-19e4e95f91cc",
   "metadata": {},
   "outputs": [
    {
     "data": {
      "text/plain": [
       "['',\n",
       " '',\n",
       " 'I specifically called them and asked to microwave the cake slice and they agreed to do it but then they sent a very hard n cold slice. ',\n",
       " '',\n",
       " 'Cold pizza with only 1 packet of oregano and chilli flakes']"
      ]
     },
     "execution_count": 226,
     "metadata": {},
     "output_type": "execute_result"
    }
   ],
   "source": [
    "reviews"
   ]
  },
  {
   "cell_type": "code",
   "execution_count": 229,
   "id": "a8b5d055-d0c7-421f-a60b-ed8fd7d550dd",
   "metadata": {},
   "outputs": [
    {
     "data": {
      "text/plain": [
       "<div class=\"sc-OnmeF ebDMjK\"><div class=\"sc-fxMfqs jClFCx\"></div><div class=\"sc-rzOft brsxuk\"><div class=\"sc-eIvgmF jAjRGP\"><a class=\"sc-fxmata GoEBH\" href=\"https://www.zomato.com/jaipur/barista-coffee-c-scheme/reviews?page=1&amp;sort=dd&amp;filter=reviews-dd\"><div class=\"sc-bkypNX lpkoAI\">1</div></a><a class=\"sc-fxmata GoEBH\" href=\"https://www.zomato.com/jaipur/barista-coffee-c-scheme/reviews?page=1&amp;sort=dd&amp;filter=reviews-dd\"><div class=\"sc-bkypNX ugYpH\">2</div></a><a class=\"sc-fxmata GoEBH\" href=\"https://www.zomato.com/jaipur/barista-coffee-c-scheme/reviews?page=1&amp;sort=dd&amp;filter=reviews-dd\"><div class=\"sc-bkypNX ugYpH\">3</div></a><a class=\"sc-fxmata GoEBH\" href=\"https://www.zomato.com/jaipur/barista-coffee-c-scheme/reviews?page=1&amp;sort=dd&amp;filter=reviews-dd\"><div class=\"sc-bkypNX ugYpH\">4</div></a><a class=\"sc-fxmata GoEBH\" href=\"https://www.zomato.com/jaipur/barista-coffee-c-scheme/reviews?page=1&amp;sort=dd&amp;filter=reviews-dd\"><div class=\"sc-bkypNX ugYpH\">5</div></a><a class=\"sc-fxmata sc-boCWhm sc-hQfrgq cIDYIF\" href=\"https://www.zomato.com/jaipur/barista-coffee-c-scheme/reviews?page=2&amp;sort=dd&amp;filter=reviews-dd\"><i class=\"sc-rbbb40-1 iFnyeo\" color=\"#1C1C1C\" size=\"20\"><svg aria-labelledby=\"icon-svg-title- icon-svg-desc-\" class=\"sc-rbbb40-0 iRDDBk\" fill=\"#1C1C1C\" height=\"20\" role=\"img\" viewbox=\"0 0 20 20\" width=\"20\" xmlns=\"http://www.w3.org/2000/svg\"><title>chevron-right</title><path d=\"M6.98 15.94c-0.3-0.28-0.3-0.76 0-1.060l4.46-4.46-4.46-4.48c-0.3-0.28-0.3-0.76 0-1.060s0.76-0.28 1.060 0l5 5c0.28 0.3 0.28 0.78 0 1.060l-5 5c-0.3 0.3-0.78 0.3-1.060 0z\"></path></svg></i></a></div></div></div>"
      ]
     },
     "execution_count": 229,
     "metadata": {},
     "output_type": "execute_result"
    }
   ],
   "source": [
    "soup.find(\"div\",class_=\"sc-OnmeF ebDMjK\")"
   ]
  },
  {
   "cell_type": "code",
   "execution_count": 194,
   "id": "644ba50a-fe22-44a4-b8bd-949a5aecb654",
   "metadata": {},
   "outputs": [
    {
     "data": {
      "text/plain": [
       "4"
      ]
     },
     "execution_count": 194,
     "metadata": {},
     "output_type": "execute_result"
    }
   ],
   "source": [
    "l = []\n",
    "for x in each.find_all(\"div\",class_=\"sc-1mo3ldo-0 sc-eomEcv hBuwPa\"):\n",
    "    l.append(x)\n",
    "\n",
    "len(l)    "
   ]
  },
  {
   "cell_type": "code",
   "execution_count": 87,
   "id": "c1b061bd-6c94-41eb-941c-a03f5b351897",
   "metadata": {},
   "outputs": [],
   "source": [
    "driver.get(\"https://www.zomato.com/jaipur/diablo-c-scheme/info\")"
   ]
  },
  {
   "cell_type": "code",
   "execution_count": 60,
   "id": "09f515d5-359c-4d86-b397-0711ff1e3782",
   "metadata": {},
   "outputs": [],
   "source": [
    "driver.get(\"https://www.zomato.com/jaipur/diablo-c-scheme/reviews\")"
   ]
  },
  {
   "cell_type": "code",
   "execution_count": 66,
   "id": "e6c4ef33-c608-4ae1-ad06-3bd812e4ea32",
   "metadata": {},
   "outputs": [],
   "source": [
    "soup = BeautifulSoup(driver.page_source,\"html.parser\")"
   ]
  },
  {
   "cell_type": "code",
   "execution_count": 68,
   "id": "c53a0956-c61f-43fd-9e73-599d45e3a9e1",
   "metadata": {},
   "outputs": [],
   "source": [
    "page = soup.find(\"div\",class_=\"sc-jvjHmY iFMTHd\")"
   ]
  },
  {
   "cell_type": "code",
   "execution_count": 81,
   "id": "5bf8853f-28d3-4027-868a-5ef51505d641",
   "metadata": {},
   "outputs": [
    {
     "name": "stdout",
     "output_type": "stream",
     "text": [
      "0 This place wrongly levies service charge and surcharge on VAT. They also serve alchohol to underage. Food and drinks super expensive, and addition to that the rude behaviour of staff and lady manager they have. Go there at your own risk!\n",
      "\n",
      "1 service charge levied for zomato customers \n",
      "\n",
      "2 totally tasteless food. we ordered green pizza as they said its their best although it was not good at all. very much disappointed. \n",
      "\n",
      "3 decent food.. great ambiance and good service!\n",
      "\n",
      "4 They have best G&T in town. Best food quality and taste. Overall experience was very good.\n",
      "\n"
     ]
    }
   ],
   "source": [
    "for i,x in  enumerate(page.find_all(\"p\",class_=\"sc-1hez2tp-0 sc-ctwKVn cjjjKd\")):\n",
    "    print(i,  x.text)\n",
    "    print('')"
   ]
  },
  {
   "cell_type": "code",
   "execution_count": 230,
   "id": "7c8a6d0d-a677-4bd1-9712-7886d1ad3497",
   "metadata": {},
   "outputs": [
    {
     "data": {
      "text/plain": [
       "<Response [403]>"
      ]
     },
     "execution_count": 230,
     "metadata": {},
     "output_type": "execute_result"
    }
   ],
   "source": []
  },
  {
   "cell_type": "code",
   "execution_count": null,
   "id": "8060136e-4319-4b41-b0c8-ed24136f84f4",
   "metadata": {},
   "outputs": [],
   "source": []
  }
 ],
 "metadata": {
  "kernelspec": {
   "display_name": "Python 3 (ipykernel)",
   "language": "python",
   "name": "python3"
  },
  "language_info": {
   "codemirror_mode": {
    "name": "ipython",
    "version": 3
   },
   "file_extension": ".py",
   "mimetype": "text/x-python",
   "name": "python",
   "nbconvert_exporter": "python",
   "pygments_lexer": "ipython3",
   "version": "3.10.0"
  }
 },
 "nbformat": 4,
 "nbformat_minor": 5
}
